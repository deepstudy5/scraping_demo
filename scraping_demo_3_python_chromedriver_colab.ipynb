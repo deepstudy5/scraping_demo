{
 "cells": [
  {
   "cell_type": "code",
   "execution_count": null,
   "id": "jvqBDigLxe14",
   "metadata": {
    "colab": {
     "base_uri": "https://localhost:8080/"
    },
    "executionInfo": {
     "elapsed": 21060,
     "status": "ok",
     "timestamp": 1717060399423,
     "user": {
      "displayName": "Artyom V",
      "userId": "18311738877103587002"
     },
     "user_tz": -120
    },
    "id": "jvqBDigLxe14",
    "outputId": "740dbd15-b625-4b5e-a58e-79543bd6b0b3"
   },
   "outputs": [],
   "source": [
    "! pip install google-colab-selenium[undetected]"
   ]
  },
  {
   "cell_type": "code",
   "execution_count": null,
   "id": "b4ad2643",
   "metadata": {
    "executionInfo": {
     "elapsed": 1,
     "status": "ok",
     "timestamp": 1717060752364,
     "user": {
      "displayName": "Artyom V",
      "userId": "18311738877103587002"
     },
     "user_tz": -120
    },
    "id": "b4ad2643"
   },
   "outputs": [],
   "source": [
    "import pandas as pd\n",
    "from tqdm.auto import tqdm\n",
    "import time\n",
    "from IPython.core.display import display, HTML"
   ]
  },
  {
   "cell_type": "markdown",
   "id": "a650eabd",
   "metadata": {
    "id": "a650eabd"
   },
   "source": [
    "# Scrape using chromedriver"
   ]
  },
  {
   "cell_type": "code",
   "execution_count": null,
   "id": "f7f810bc",
   "metadata": {
    "executionInfo": {
     "elapsed": 1,
     "status": "ok",
     "timestamp": 1717060755288,
     "user": {
      "displayName": "Artyom V",
      "userId": "18311738877103587002"
     },
     "user_tz": -120
    },
    "id": "f7f810bc"
   },
   "outputs": [],
   "source": [
    "import time\n",
    "import random\n",
    "import os\n",
    "from pathlib import Path\n",
    "import pandas as pd\n",
    "from tqdm.auto import tqdm\n",
    "\n",
    "from selenium.webdriver.common.by import By\n",
    "from selenium.webdriver.support.ui import WebDriverWait\n",
    "from selenium.webdriver.support import expected_conditions as EC\n",
    "from selenium.common.exceptions import ElementClickInterceptedException\n",
    "from selenium.webdriver.common.action_chains import ActionChains\n",
    "# import undetected_chromedriver as uc\n",
    "import google_colab_selenium as uc\n",
    "from selenium.webdriver.chrome.options import Options"
   ]
  },
  {
   "cell_type": "code",
   "execution_count": null,
   "id": "f430724b",
   "metadata": {
    "colab": {
     "base_uri": "https://localhost:8080/",
     "height": 98
    },
    "executionInfo": {
     "elapsed": 8899,
     "status": "ok",
     "timestamp": 1717060771146,
     "user": {
      "displayName": "Artyom V",
      "userId": "18311738877103587002"
     },
     "user_tz": -120
    },
    "id": "f430724b",
    "outputId": "654fd894-314f-4e42-984f-2ca0824160e5"
   },
   "outputs": [],
   "source": [
    "# options = uc.ChromeOptions()\n",
    "options = Options()\n",
    "# options.add_argument(\"--disable-extensions\")\n",
    "# options.add_argument('--headless')\n",
    "# options.add_argument(\n",
    "#     \"--user-agent=Mozilla/5.0 (Windows NT 10.0; Win64; x64) AppleWebKit/537.36 (KHTML, like Gecko) Chrome/113.0.5672.126 Safari/537.36\")\n",
    "# options.add_argument('--user-data-dir=./user-profile-5/')\n",
    "# options.add_argument('--disable-blink-features=AutomationControlled')\n",
    "# options.add_argument('--no-sandbox')\n",
    "# options.add_argument('--blink-settings=imagesEnabled=false')\n",
    "\n",
    "\n",
    "# prefs = {\n",
    "#     'download.prompt_for_download': False,\n",
    "#     'download.directory_upgrade': True,\n",
    "#     'disable-popup-blocking': True,\n",
    "#     'safebrowsing.enabled': True,\n",
    "#     'block_third_party_cookies': True,\n",
    "\n",
    "#     # Disable downloading images\n",
    "#     'profile.managed_default_content_settings.images': 2,\n",
    "# }\n",
    "# options.add_experimental_option('prefs', prefs)\n",
    "\n",
    "print(\"Creating the driver\")\n",
    "# DRIVER = uc.Chrome(use_subprocess=True, options=options, desired_capabilities=capabilities)\n",
    "DRIVER = uc.Chrome(options=options)"
   ]
  },
  {
   "cell_type": "code",
   "execution_count": null,
   "id": "246c735c",
   "metadata": {
    "executionInfo": {
     "elapsed": 260,
     "status": "ok",
     "timestamp": 1717060772896,
     "user": {
      "displayName": "Artyom V",
      "userId": "18311738877103587002"
     },
     "user_tz": -120
    },
    "id": "246c735c"
   },
   "outputs": [],
   "source": [
    "def get_domain_info(driver, name: str) -> dict:\n",
    "    rec = dict(name=name)\n",
    "    try:\n",
    "        driver.get(f'http://dns.ton.org/#{name}')\n",
    "        status_found = WebDriverWait(driver, 20) \\\n",
    "            .until(lambda driver: driver.find_element(By.ID, \"domainStatus\").text.strip() != '')\n",
    "        if not status_found:\n",
    "            raise Exception(f'Non-empty status not found')\n",
    "        el_status = driver.find_element(By.ID, \"domainStatus\")\n",
    "        status = el_status.text\n",
    "        rec['status'] = status\n",
    "\n",
    "        if status == 'Taken':\n",
    "            pass\n",
    "        elif status == 'On sale':\n",
    "            el_price = driver.find_element(By.ID, \"ggSalePrice\")\n",
    "            price = el_price.text\n",
    "            rec['price'] = price\n",
    "        elif status == 'Available':\n",
    "            el_price = driver.find_element(By.ID, \"freeMinBet\")\n",
    "            price = el_price.text\n",
    "            rec['price'] = price\n",
    "        elif status == 'On auction':\n",
    "            el_price = driver.find_element(By.ID, \"ggAuctionMinBid\")\n",
    "            price = el_price.text\n",
    "            rec['price'] = price\n",
    "        else:\n",
    "            print(f'{name}, unhandled status: {status}')\n",
    "    except Exception as ex:\n",
    "        print(f'Got exception: {ex}')\n",
    "        rec['exception'] = str(ex)\n",
    "    return rec"
   ]
  },
  {
   "cell_type": "code",
   "execution_count": null,
   "id": "54b27835",
   "metadata": {
    "colab": {
     "base_uri": "https://localhost:8080/"
    },
    "executionInfo": {
     "elapsed": 4752,
     "status": "ok",
     "timestamp": 1717060778851,
     "user": {
      "displayName": "Artyom V",
      "userId": "18311738877103587002"
     },
     "user_tz": -120
    },
    "id": "54b27835",
    "outputId": "3141129a-e7e5-4c6b-fa95-5eac49487f78"
   },
   "outputs": [],
   "source": [
    "get_domain_info(driver=DRIVER, name='angela')"
   ]
  },
  {
   "cell_type": "code",
   "execution_count": null,
   "id": "d4019f0b",
   "metadata": {
    "colab": {
     "base_uri": "https://localhost:8080/"
    },
    "executionInfo": {
     "elapsed": 940,
     "status": "ok",
     "timestamp": 1717060779790,
     "user": {
      "displayName": "Artyom V",
      "userId": "18311738877103587002"
     },
     "user_tz": -120
    },
    "id": "d4019f0b",
    "outputId": "0a41a505-3533-4829-9c1c-9ff801212d7a"
   },
   "outputs": [],
   "source": [
    "get_domain_info(driver=DRIVER, name='gohavesomefun')"
   ]
  },
  {
   "cell_type": "code",
   "execution_count": null,
   "id": "7d0f3c64",
   "metadata": {
    "id": "7d0f3c64"
   },
   "outputs": [],
   "source": []
  }
 ],
 "metadata": {
  "colab": {
   "provenance": []
  },
  "kernelspec": {
   "display_name": "Python 3 (ipykernel)",
   "language": "python",
   "name": "python3"
  },
  "language_info": {
   "codemirror_mode": {
    "name": "ipython",
    "version": 3
   },
   "file_extension": ".py",
   "mimetype": "text/x-python",
   "name": "python",
   "nbconvert_exporter": "python",
   "pygments_lexer": "ipython3",
   "version": "3.9.6"
  }
 },
 "nbformat": 4,
 "nbformat_minor": 5
}
