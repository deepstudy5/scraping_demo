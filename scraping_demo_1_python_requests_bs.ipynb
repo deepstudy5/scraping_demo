{
 "cells": [
  {
   "cell_type": "code",
   "execution_count": null,
   "id": "b4ad2643",
   "metadata": {},
   "outputs": [],
   "source": [
    "import pandas as pd\n",
    "from tqdm.auto import tqdm\n",
    "import time\n",
    "from IPython.core.display import display, HTML"
   ]
  },
  {
   "cell_type": "markdown",
   "id": "7aedea9c",
   "metadata": {},
   "source": [
    "# Use requests.get"
   ]
  },
  {
   "cell_type": "code",
   "execution_count": null,
   "id": "1b14688a",
   "metadata": {},
   "outputs": [],
   "source": [
    "import requests"
   ]
  },
  {
   "cell_type": "code",
   "execution_count": null,
   "id": "1979309a",
   "metadata": {},
   "outputs": [],
   "source": [
    "response = requests.get('https://fragment.com/username/angela')"
   ]
  },
  {
   "cell_type": "code",
   "execution_count": null,
   "id": "8cca1f0f",
   "metadata": {},
   "outputs": [],
   "source": [
    "display(HTML(response.text))"
   ]
  },
  {
   "cell_type": "markdown",
   "id": "bc6992bc",
   "metadata": {},
   "source": [
    "# Extracting data from HTML"
   ]
  },
  {
   "cell_type": "code",
   "execution_count": null,
   "id": "2a3124a0",
   "metadata": {},
   "outputs": [],
   "source": [
    "import bs4 as bs\n",
    "\n",
    "response = requests.get('https://fragment.com/username/angela')\n",
    "soup = bs.BeautifulSoup(response.text, 'html')\n",
    "status_element = soup.select_one('#aj_content > main > section.tm-section.tm-auction-section > div.tm-section-header > h2 > span.tm-section-header-status.tm-status-unavail')\n",
    "status_element.text\n"
   ]
  },
  {
   "cell_type": "code",
   "execution_count": null,
   "id": "92df27ca",
   "metadata": {},
   "outputs": [],
   "source": [
    "# Extracting price\n",
    "price_element = soup.select_one('#aj_content > main > section.tm-section.clearfix > div.tm-table-wrap > table > tbody > tr > td:nth-child(1) > div > div')\n",
    "price_element.text"
   ]
  },
  {
   "cell_type": "markdown",
   "id": "65e1bdea",
   "metadata": {},
   "source": [
    "# Scraping in the loop"
   ]
  },
  {
   "cell_type": "code",
   "execution_count": null,
   "id": "9a0163a9",
   "metadata": {},
   "outputs": [],
   "source": [
    "# Note status was too specific\n",
    "target_names = ['angela', 'mike', 'steve', 'marijose']\n",
    "accumulator = list()\n",
    "for n in target_names:\n",
    "    try:\n",
    "        response = requests.get(f'https://fragment.com/username/{n}')\n",
    "        soup = bs.BeautifulSoup(response.text, 'html')\n",
    "#         status_element = soup.select_one('#aj_content > main > section.tm-section.tm-auction-section > div.tm-section-header > h2 > span.tm-section-header-status.tm-status-unavail')\n",
    "        status_element = soup.select_one('#aj_content > main > section.tm-section.tm-auction-section > div.tm-section-header > h2 > span.tm-section-header-status')        \n",
    "        price_element = soup.select_one('#aj_content > main > section.tm-section.clearfix > div.tm-table-wrap > table > tbody > tr > td:nth-child(1) > div > div')\n",
    "        rec = {\n",
    "            'name': n,\n",
    "            'status': None if status_element is None else status_element.text,\n",
    "            'price': None if price_element is None else price_element.text,\n",
    "        }\n",
    "        accumulator.append(rec)\n",
    "    except Exception as ex:\n",
    "        print(f'Got exception scraping \"{n}\". Exception: {ex}')"
   ]
  },
  {
   "cell_type": "code",
   "execution_count": null,
   "id": "953113bf",
   "metadata": {},
   "outputs": [],
   "source": [
    "pd.DataFrame(accumulator)"
   ]
  },
  {
   "cell_type": "markdown",
   "id": "35386185",
   "metadata": {},
   "source": [
    "# Scraping in larger scale"
   ]
  },
  {
   "cell_type": "code",
   "execution_count": null,
   "id": "e176a1bd",
   "metadata": {},
   "outputs": [],
   "source": [
    "names_df = pd.read_csv('./data/common-forenames-by-country.csv')\n",
    "names_df[:2]"
   ]
  },
  {
   "cell_type": "code",
   "execution_count": null,
   "id": "c9232615",
   "metadata": {},
   "outputs": [],
   "source": [
    "names_df['name_normalised'] = names_df['Romanized Name'] \\\n",
    "    .str.replace('[^\\w\\s]', '') \\\n",
    "    .str.lower()"
   ]
  },
  {
   "cell_type": "code",
   "execution_count": null,
   "id": "583eb7b8",
   "metadata": {},
   "outputs": [],
   "source": [
    "target_names = names_df[names_df['Country'] == 'US']['name_normalised'].values\n",
    "target_names"
   ]
  },
  {
   "cell_type": "code",
   "execution_count": null,
   "id": "14455582",
   "metadata": {},
   "outputs": [],
   "source": [
    "accumulator = list()\n",
    "for n in tqdm(target_names):\n",
    "    try:\n",
    "        response = requests.get(f'https://fragment.com/username/{n}')\n",
    "        soup = bs.BeautifulSoup(response.text, 'html')\n",
    "        status_element = soup.select_one('#aj_content > main > section.tm-section.tm-auction-section > div.tm-section-header > h2 > span.tm-section-header-status')\n",
    "        price_element = soup.select_one('#aj_content > main > section.tm-section.clearfix > div.tm-table-wrap > table > tbody > tr > td:nth-child(1) > div > div')\n",
    "        rec = {\n",
    "            'name': n,\n",
    "            'status': status_element.text,\n",
    "            'price': None if price_element is None else price_element.text.strip(),\n",
    "        }\n",
    "        accumulator.append(rec)\n",
    "        time.sleep(0.5)\n",
    "    except Exception as ex:\n",
    "        print(f'Got exception scraping \"{n}\". Exception: {ex}')"
   ]
  },
  {
   "cell_type": "code",
   "execution_count": null,
   "id": "05103a4f",
   "metadata": {},
   "outputs": [],
   "source": [
    "pd.DataFrame(accumulator)"
   ]
  },
  {
   "cell_type": "code",
   "execution_count": null,
   "id": "911511f9",
   "metadata": {},
   "outputs": [],
   "source": [
    "# Improving price scraping, note Chrome added tr tag\n",
    "\n",
    "accumulator = list()\n",
    "for n in tqdm(target_names):\n",
    "    try:\n",
    "        response = requests.get(f'https://fragment.com/username/{n}')\n",
    "        soup = bs.BeautifulSoup(response.text, 'html')\n",
    "        status_element = soup.select_one('#aj_content > main > section.tm-section.tm-auction-section > div.tm-section-header > h2 > span.tm-section-header-status')\n",
    "        price1_element = soup.select_one('#aj_content > main > section.tm-section.clearfix > div.tm-table-wrap > table > tbody > tr > td:nth-child(1) > div > div')\n",
    "#         price2_element = soup.select_one('#aj_content > main > section.tm-section.tm-auction-section > div.tm-section-box.tm-section-bid-info > table > tbody > tr > td:nth-child(1) > div > div')\n",
    "        price2_element = soup.select_one('#aj_content > main > section.tm-section.tm-auction-section > div.tm-section-box.tm-section-bid-info > table > tbody > td:nth-child(1) > div > div')\n",
    "        rec = {\n",
    "            'name': n,\n",
    "            'status': status_element.text,\n",
    "            'price1': None if price1_element is None else price1_element.text.strip(),\n",
    "            'price2': None if price2_element is None else price2_element.text.strip(),\n",
    "        }\n",
    "        accumulator.append(rec)\n",
    "        time.sleep(0.5)\n",
    "    except Exception as ex:\n",
    "        print(f'Got exception scraping \"{n}\". Exception: {ex}')\n",
    "\n"
   ]
  },
  {
   "cell_type": "code",
   "execution_count": null,
   "id": "64146f1e",
   "metadata": {},
   "outputs": [],
   "source": [
    "pd.DataFrame(accumulator)"
   ]
  },
  {
   "cell_type": "markdown",
   "id": "b942f00c",
   "metadata": {},
   "source": [
    "# A case of requests.get not working"
   ]
  },
  {
   "cell_type": "code",
   "execution_count": null,
   "id": "3de20cd4",
   "metadata": {},
   "outputs": [],
   "source": [
    "response = requests.get('https://dns.ton.org/#angela')"
   ]
  },
  {
   "cell_type": "code",
   "execution_count": null,
   "id": "fa6767bd",
   "metadata": {},
   "outputs": [],
   "source": [
    "display(HTML(response.text))"
   ]
  },
  {
   "cell_type": "code",
   "execution_count": null,
   "id": "d4019f0b",
   "metadata": {},
   "outputs": [],
   "source": []
  }
 ],
 "metadata": {
  "kernelspec": {
   "display_name": "Python 3 (ipykernel)",
   "language": "python",
   "name": "python3"
  },
  "language_info": {
   "codemirror_mode": {
    "name": "ipython",
    "version": 3
   },
   "file_extension": ".py",
   "mimetype": "text/x-python",
   "name": "python",
   "nbconvert_exporter": "python",
   "pygments_lexer": "ipython3",
   "version": "3.9.6"
  }
 },
 "nbformat": 4,
 "nbformat_minor": 5
}
